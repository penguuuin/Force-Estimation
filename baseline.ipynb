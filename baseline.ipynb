{
 "cells": [
  {
   "cell_type": "code",
   "execution_count": 1,
   "metadata": {
    "id": "BxuPQd3aeNGY"
   },
   "outputs": [],
   "source": [
    "import tensorflow as tf\n",
    "\n",
    "from tensorflow.keras import datasets, layers, models\n",
    "import matplotlib.pyplot as plt\n",
    "import pandas as pd\n",
    "import pathlib\n",
    "import PIL\n",
    "import PIL.Image\n",
    "import numpy as np\n"
   ]
  },
  {
   "cell_type": "code",
   "execution_count": 2,
   "metadata": {},
   "outputs": [],
   "source": [
    "force_path = '../force_data/'\n",
    "timestamp_path = '../image_timestamp/'"
   ]
  },
  {
   "cell_type": "code",
   "execution_count": 3,
   "metadata": {},
   "outputs": [],
   "source": [
    "stamp_force = pd.read_csv(force_path+'sync-test-1.csv') \n",
    "stamp_frame = pd.read_csv(timestamp_path+'sync-test-1.csv') "
   ]
  },
  {
   "cell_type": "code",
   "execution_count": 4,
   "metadata": {},
   "outputs": [],
   "source": [
    "frame_force = {}\n",
    "for i in range(len(stamp_force)):\n",
    "    frame_force[stamp_frame.iloc[i]['frame']] = stamp_force.iloc[i]['force']"
   ]
  },
  {
   "cell_type": "code",
   "execution_count": 5,
   "metadata": {},
   "outputs": [],
   "source": [
    "data_dir = pathlib.Path('../small_imgs/')\n",
    "images = list(data_dir.glob('*.png'))"
   ]
  },
  {
   "cell_type": "code",
   "execution_count": 6,
   "metadata": {},
   "outputs": [],
   "source": [
    "pics = []\n",
    "forces = []\n",
    "\n",
    "for i in range(len(images)):\n",
    "    if i in frame_force.keys():\n",
    "        I = np.array(PIL.Image.open(str(images[i])))\n",
    "        img = PIL.Image.fromarray(I, 'RGB')\n",
    "        img = np.asanyarray(img)\n",
    "        pics.append(img)\n",
    "        forces.append(frame_force[i])\n"
   ]
  },
  {
   "cell_type": "code",
   "execution_count": 7,
   "metadata": {},
   "outputs": [],
   "source": [
    "event_frames = []\n",
    "event_forces = []\n",
    "event_index = []\n",
    "for i in range(1, len(forces)):\n",
    "    if forces[i] != 0:\n",
    "        event_frames.append(pics[i])\n",
    "        event_forces.append(forces[i])\n",
    "        event_index.append(i)\n",
    "    else:\n",
    "        if forces[i-1] != 0:\n",
    "            event_frames.append(pics[i])\n",
    "            event_forces.append(forces[i])\n",
    "            event_index.append(i)"
   ]
  },
  {
   "cell_type": "code",
   "execution_count": 8,
   "metadata": {},
   "outputs": [],
   "source": [
    "events = []\n",
    "current_event = []\n",
    "\n",
    "for i in event_index:\n",
    "    if forces[i] == 0:\n",
    "        events.append(current_event)\n",
    "        current_event = []\n",
    "    else:\n",
    "        current_event.append(i)\n",
    "events[0] = [0]+events[0]        "
   ]
  },
  {
   "cell_type": "code",
   "execution_count": 9,
   "metadata": {},
   "outputs": [],
   "source": [
    "x = []\n",
    "y = []\n",
    "for e in events:\n",
    "    s = e[0]\n",
    "    if len(e) < 40:\n",
    "        new_s = s - (40-len(e))//2\n",
    "    else:\n",
    "        new_s = s\n",
    "    x.append(pics[new_s:new_s+40])\n",
    "    y.append(min(forces[new_s:new_s+40]))"
   ]
  },
  {
   "cell_type": "markdown",
   "metadata": {},
   "source": [
    "#### Model construction\n",
    "* Create a bath of scenes for training\n",
    "* Each scene is a series of pictures representing one event (a probe touching an object)\n",
    "* Input simension is (# of scenes, # of frames in a scene, height of picture, width of picture, # of color channels)\n",
    "* Use a time distributed CNN to process each frame in a scene\n",
    "* Pass each scene as an array of frames to RNN, so that each sample is a scene with a corresponding force number"
   ]
  },
  {
   "cell_type": "code",
   "execution_count": 10,
   "metadata": {},
   "outputs": [],
   "source": [
    "x = np.array(x)\n",
    "y = np.array(y)\n",
    "x = x / 255.0"
   ]
  },
  {
   "cell_type": "code",
   "execution_count": 11,
   "metadata": {},
   "outputs": [
    {
     "data": {
      "text/plain": [
       "(5, 40, 72, 128, 3)"
      ]
     },
     "execution_count": 11,
     "metadata": {},
     "output_type": "execute_result"
    }
   ],
   "source": [
    "x.shape"
   ]
  },
  {
   "cell_type": "code",
   "execution_count": 23,
   "metadata": {
    "id": "oUAjcp6lfMLW"
   },
   "outputs": [
    {
     "name": "stdout",
     "output_type": "stream",
     "text": [
      "Model: \"sequential_1\"\n",
      "_________________________________________________________________\n",
      "Layer (type)                 Output Shape              Param #   \n",
      "=================================================================\n",
      "time_distributed_6 (TimeDist (5, 40, 70, 126, 64)      1792      \n",
      "_________________________________________________________________\n",
      "time_distributed_7 (TimeDist (5, 40, 35, 63, 64)       0         \n",
      "_________________________________________________________________\n",
      "time_distributed_8 (TimeDist (5, 40, 33, 61, 64)       36928     \n",
      "_________________________________________________________________\n",
      "time_distributed_9 (TimeDist (5, 40, 16, 30, 64)       0         \n",
      "_________________________________________________________________\n",
      "time_distributed_10 (TimeDis (5, 40, 14, 28, 64)       36928     \n",
      "_________________________________________________________________\n",
      "time_distributed_11 (TimeDis (5, 40, 25088)            0         \n",
      "_________________________________________________________________\n",
      "lstm_1 (LSTM)                (5, 128)                  12911104  \n",
      "_________________________________________________________________\n",
      "dense_2 (Dense)              (5, 64)                   8256      \n",
      "_________________________________________________________________\n",
      "dense_3 (Dense)              (5, 1)                    65        \n",
      "=================================================================\n",
      "Total params: 12,995,073\n",
      "Trainable params: 12,995,073\n",
      "Non-trainable params: 0\n",
      "_________________________________________________________________\n"
     ]
    }
   ],
   "source": [
    "model = models.Sequential()\n",
    "# CNN part\n",
    "model.add(layers.TimeDistributed(layers.Conv2D(64, (3, 3), activation='relu')))\n",
    "model.add(layers.TimeDistributed(layers.MaxPooling2D((2, 2))))\n",
    "model.add(layers.TimeDistributed(layers.Conv2D(64, (3, 3), activation='relu')))\n",
    "model.add(layers.TimeDistributed(layers.MaxPooling2D((2, 2))))\n",
    "model.add(layers.TimeDistributed(layers.Conv2D(64, (3, 3), activation='relu')))\n",
    "\n",
    "# Flatten CNN output\n",
    "model.add(layers.TimeDistributed(layers.Flatten()))\n",
    "\n",
    "# RNN part\n",
    "\n",
    "# Add a LSTM layer with 128 internal units.\n",
    "model.add(layers.LSTM(128))\n",
    "\n",
    "# # final dense layers for output\n",
    "model.add(layers.Dense(64, activation='relu'))\n",
    "model.add(layers.Dense(1))\n",
    "model.build(input_shape = x.shape)\n",
    "\n",
    "model.summary()"
   ]
  },
  {
   "cell_type": "code",
   "execution_count": 27,
   "metadata": {
    "id": "aJyTmmAZfjao"
   },
   "outputs": [
    {
     "name": "stdout",
     "output_type": "stream",
     "text": [
      "Epoch 1/10\n",
      "1/1 [==============================] - 4s 4s/step - loss: 0.9031\n",
      "Epoch 2/10\n",
      "1/1 [==============================] - 3s 3s/step - loss: 0.9193\n",
      "Epoch 3/10\n",
      "1/1 [==============================] - 3s 3s/step - loss: 0.9033\n",
      "Epoch 4/10\n",
      "1/1 [==============================] - 3s 3s/step - loss: 0.9041\n",
      "Epoch 5/10\n",
      "1/1 [==============================] - 3s 3s/step - loss: 0.9104\n",
      "Epoch 6/10\n",
      "1/1 [==============================] - 3s 3s/step - loss: 0.9068\n",
      "Epoch 7/10\n",
      "1/1 [==============================] - 3s 3s/step - loss: 0.9017\n",
      "Epoch 8/10\n",
      "1/1 [==============================] - 3s 3s/step - loss: 0.9022\n",
      "Epoch 9/10\n",
      "1/1 [==============================] - 3s 3s/step - loss: 0.9055\n",
      "Epoch 10/10\n",
      "1/1 [==============================] - 3s 3s/step - loss: 0.9058\n"
     ]
    }
   ],
   "source": [
    "model.compile(optimizer='adam',\n",
    "              loss=tf.keras.losses.MeanSquaredError())\n",
    "\n",
    "history = model.fit(x, y, epochs=10)"
   ]
  },
  {
   "cell_type": "code",
   "execution_count": 30,
   "metadata": {},
   "outputs": [
    {
     "data": {
      "text/plain": [
       "array([[-3.161907],\n",
       "       [-3.161907],\n",
       "       [-3.161907],\n",
       "       [-3.161907],\n",
       "       [-3.161907]], dtype=float32)"
      ]
     },
     "execution_count": 30,
     "metadata": {},
     "output_type": "execute_result"
    }
   ],
   "source": [
    "model.predict(x)"
   ]
  },
  {
   "cell_type": "code",
   "execution_count": 29,
   "metadata": {},
   "outputs": [
    {
     "data": {
      "text/plain": [
       "array([-3.58, -4.91, -2.49, -2.63, -2.42])"
      ]
     },
     "execution_count": 29,
     "metadata": {},
     "output_type": "execute_result"
    }
   ],
   "source": [
    "y"
   ]
  },
  {
   "cell_type": "markdown",
   "metadata": {},
   "source": [
    "#### Summary\n",
    "* Current notebook uses 5 samples to train and does not have a test set (from test-1)\n",
    "* Current model uses the largest force value during an event as the target value\n",
    "* Current model uses 40 picture frames as the length of an event\n",
    "* Current model uses simple CNN layers and only a LSTM layer as the RNN part (see model.summary above)"
   ]
  },
  {
   "cell_type": "markdown",
   "metadata": {},
   "source": [
    "#### Next Steps\n",
    "* Prepare more data for the training and testing test\n",
    "* Change model structure"
   ]
  },
  {
   "cell_type": "code",
   "execution_count": null,
   "metadata": {},
   "outputs": [],
   "source": []
  }
 ],
 "metadata": {
  "colab": {
   "collapsed_sections": [],
   "name": "baseline.ipynb",
   "provenance": []
  },
  "kernelspec": {
   "display_name": "Python 3",
   "language": "python",
   "name": "python3"
  },
  "language_info": {
   "codemirror_mode": {
    "name": "ipython",
    "version": 3
   },
   "file_extension": ".py",
   "mimetype": "text/x-python",
   "name": "python",
   "nbconvert_exporter": "python",
   "pygments_lexer": "ipython3",
   "version": "3.7.10"
  }
 },
 "nbformat": 4,
 "nbformat_minor": 1
}
